{
  "nbformat": 4,
  "nbformat_minor": 0,
  "metadata": {
    "kernelspec": {
      "display_name": "Python 3",
      "language": "python",
      "name": "python3"
    },
    "language_info": {
      "codemirror_mode": {
        "name": "ipython",
        "version": 3
      },
      "file_extension": ".py",
      "mimetype": "text/x-python",
      "name": "python",
      "nbconvert_exporter": "python",
      "pygments_lexer": "ipython3",
      "version": "3.7.0"
    },
    "colab": {
      "name": "efay- Binary Classification Using a Simple Linear Function.ipynb adlı dosyanın kopyası",
      "provenance": [],
      "collapsed_sections": []
    }
  },
  "cells": [
    {
      "cell_type": "code",
      "metadata": {
        "id": "UXbRpEe2GeF_",
        "colab_type": "code",
        "colab": {}
      },
      "source": [
        "%config InlineBackend.figure_format = 'retina'\n",
        "import matplotlib.pyplot as plt\n",
        "import numpy as np\n",
        "np.set_printoptions(precision=3)\n",
        "np.set_printoptions(suppress=True)"
      ],
      "execution_count": 0,
      "outputs": []
    },
    {
      "cell_type": "markdown",
      "metadata": {
        "id": "WIlzetq5GeGF",
        "colab_type": "text"
      },
      "source": [
        "# Machine Learning Excercise 1"
      ]
    },
    {
      "cell_type": "markdown",
      "metadata": {
        "id": "oW97LK2DGeGG",
        "colab_type": "text"
      },
      "source": [
        "## Binary Classification"
      ]
    },
    {
      "cell_type": "markdown",
      "metadata": {
        "id": "atNBbnpFGeGG",
        "colab_type": "text"
      },
      "source": [
        "We have a data set below, containing 6 data points, each containing a 2-dimensional vector associated with a label. For example, a vector `[1.2, 0.7]` is associated with the label `+1`."
      ]
    },
    {
      "cell_type": "markdown",
      "metadata": {
        "id": "a96UOQg_GeGH",
        "colab_type": "text"
      },
      "source": [
        "| vector [x,y] \t| label \t|\n",
        "|--------------\t|-------\t|\n",
        "| [ 1.2, 0.7]  \t| +1    \t|\n",
        "| [-0.3, -0.5] \t| -1    \t|\n",
        "| [3.0, 0.1]   \t| +1    \t|\n",
        "| [-0.1, -1.0] \t| -1    \t|\n",
        "| [-1.0, 1.1]  \t| -1    \t|\n",
        "| [2.1, -3.0]  \t| +1    \t|"
      ]
    },
    {
      "cell_type": "markdown",
      "metadata": {
        "id": "-YU90mIkGeGI",
        "colab_type": "text"
      },
      "source": [
        "To get a better understanding of the data, we can plot these two-dimensional vectors on a cartesian plane:"
      ]
    },
    {
      "cell_type": "markdown",
      "metadata": {
        "id": "eqRHLlgmGeGJ",
        "colab_type": "text"
      },
      "source": [
        "<img src=\"https://github.com/nmarincic/machineintelligence/blob/master/img/neural_networks_33.png?raw=1\" alt=\"drawing\" width=\"500\"/>"
      ]
    },
    {
      "cell_type": "markdown",
      "metadata": {
        "id": "ShwlJSasGeGK",
        "colab_type": "text"
      },
      "source": [
        "Here, the location on the point in the plane is given by the pair of coordinates, and its colour is defined by the label. Red points have the label `+1`, and the blue points have the label `-1`.  When we give the computer a pair of (x,y) coordinates, we want the computer to tell us should whether the point should be marked `-1`—red or `+1`—blue, according to what it knows from the data.  What does learning means in this case? The computer needs to define the boundary between these two given classes."
      ]
    },
    {
      "cell_type": "markdown",
      "metadata": {
        "id": "DbuBNgtnGeGL",
        "colab_type": "text"
      },
      "source": [
        "### Classification by using a simple linear function "
      ]
    },
    {
      "cell_type": "markdown",
      "metadata": {
        "id": "IEPjuwntGeGL",
        "colab_type": "text"
      },
      "source": [
        "First we will use a simple linear function to implement binary classification:"
      ]
    },
    {
      "cell_type": "markdown",
      "metadata": {
        "id": "upDlmrmtGeGM",
        "colab_type": "text"
      },
      "source": [
        "\\begin{align}\n",
        "F = f(\\mathbf{X},\\mathbf{Y})=A\\mathbf{X}+B\\mathbf{Y}+C\n",
        "\\end{align}"
      ]
    },
    {
      "cell_type": "markdown",
      "metadata": {
        "id": "bsQd4NOeGeGN",
        "colab_type": "text"
      },
      "source": [
        "Here, $\\mathbf{X}$ and $\\mathbf{Y}$ are the input vectors, and $A$, $B$ and $C$ are the parameters that we are trying to learn. This can be represented schematically:"
      ]
    },
    {
      "cell_type": "markdown",
      "metadata": {
        "id": "_4vXCqFPGeGO",
        "colab_type": "text"
      },
      "source": [
        "<img src=\"https://github.com/nmarincic/machineintelligence/blob/master/img/neural_networks_16.png?raw=1\" alt=\"drawing\" width=\"400\"/>"
      ]
    },
    {
      "cell_type": "markdown",
      "metadata": {
        "id": "jCp2cbnWGeGP",
        "colab_type": "text"
      },
      "source": [
        "So, if our data point is $(\\mathbf{X},\\mathbf{Y})=$ `[1.2,0.7]`, and if the chosen parameters are $A=$ `1`, $B=$ `-2`, $C=$ `-3`, initialise the variables:"
      ]
    },
    {
      "cell_type": "code",
      "metadata": {
        "id": "Hpqp0JceGeGP",
        "colab_type": "code",
        "colab": {}
      },
      "source": [
        "X, Y = 3.0, 0.1"
      ],
      "execution_count": 0,
      "outputs": []
    },
    {
      "cell_type": "code",
      "metadata": {
        "id": "X5tPyu2wGeGU",
        "colab_type": "code",
        "colab": {}
      },
      "source": [
        "A, B, C = 1, 3, -4"
      ],
      "execution_count": 0,
      "outputs": []
    },
    {
      "cell_type": "markdown",
      "metadata": {
        "id": "VD-mRl52GeGa",
        "colab_type": "text"
      },
      "source": [
        "For the corresponding data point label, initialise the variable `label`:"
      ]
    },
    {
      "cell_type": "code",
      "metadata": {
        "id": "5t_GIsraGeGb",
        "colab_type": "code",
        "colab": {}
      },
      "source": [
        "label = +1"
      ],
      "execution_count": 0,
      "outputs": []
    },
    {
      "cell_type": "markdown",
      "metadata": {
        "id": "Bj4ll-L2GeGg",
        "colab_type": "text"
      },
      "source": [
        "Compute the output of the function $F = f(\\mathbf{X},\\mathbf{Y})$ and assign it to the variable `output`:"
      ]
    },
    {
      "cell_type": "code",
      "metadata": {
        "id": "o0wpyphtGeGh",
        "colab_type": "code",
        "outputId": "0adc7fb2-b639-441b-eff2-10c71c57debc",
        "colab": {
          "base_uri": "https://localhost:8080/",
          "height": 34
        }
      },
      "source": [
        "output = A * X + B * Y + C\n",
        "output"
      ],
      "execution_count": 30,
      "outputs": [
        {
          "output_type": "execute_result",
          "data": {
            "text/plain": [
              "-0.7000000000000002"
            ]
          },
          "metadata": {
            "tags": []
          },
          "execution_count": 30
        }
      ]
    },
    {
      "cell_type": "markdown",
      "metadata": {
        "id": "o5eFbpRFGeGl",
        "colab_type": "text"
      },
      "source": [
        "<img src=\"https://github.com/nmarincic/machineintelligence/blob/master/img/neural_networks_17.png?raw=1\" alt=\"drawing\" width=\"400\"/>"
      ]
    },
    {
      "cell_type": "markdown",
      "metadata": {
        "id": "JTdbBi85GeGm",
        "colab_type": "text"
      },
      "source": [
        "The prediction has to do with how do we interpret the output $F$ of the function $f(\\mathbf{X},\\mathbf{Y})$.<br>\n",
        "\n",
        "__We can define that in our algorithm, the parameters $A$, $B$, and $C$ must be tuned such that the function $f$ outputs a number greater than 0 when it encounters a data point associated with the label `+1`. In the same way, the function should output a number less (or equal to) than 0 when it encounters a data point associated with the label `-1`.__\n"
      ]
    },
    {
      "cell_type": "markdown",
      "metadata": {
        "id": "RXuZTo_EGeGn",
        "colab_type": "text"
      },
      "source": [
        "| Neuron Output \t| Label | Action         |\n",
        "|--------------\t|---------- | ------         |\n",
        "| Output > +1  \t| +1    \t| do nothing     |\n",
        "| Output > -1 \t| -1    \t| minimise output|\n",
        "| Output < +1   \t| +1    \t| maximise output|\n",
        "| Output < -1 \t| -1    \t| do nothing     |"
      ]
    },
    {
      "cell_type": "markdown",
      "metadata": {
        "id": "Dn7bJFRPGeGo",
        "colab_type": "text"
      },
      "source": [
        "Decide whether we should minimise or maximise the output of the function $F = f(\\mathbf{X},\\mathbf{Y})$ for the current data point?"
      ]
    },
    {
      "cell_type": "code",
      "metadata": {
        "id": "bgHYmWX7GeGo",
        "colab_type": "code",
        "colab": {}
      },
      "source": [
        "# maximise the output"
      ],
      "execution_count": 0,
      "outputs": []
    },
    {
      "cell_type": "markdown",
      "metadata": {
        "id": "SJC2LQJ1GeGs",
        "colab_type": "text"
      },
      "source": [
        "Create a python function `decide(output, label)`, that prints whether we should minimise or maximise our function $F = f(\\mathbf{X},\\mathbf{Y})$:"
      ]
    },
    {
      "cell_type": "code",
      "metadata": {
        "id": "9SLiaaMxGeGt",
        "colab_type": "code",
        "colab": {}
      },
      "source": [
        "def decide(output, label):\n",
        "  if (output < 1) and (label == 1):\n",
        "    print('maximise the output')\n",
        "  elif ((output  > -1) and (label == -1)):\n",
        "   print('minimise the output')\n",
        "  else:\n",
        "     print('\tdo nothing')\n",
        "   \n"
      ],
      "execution_count": 0,
      "outputs": []
    },
    {
      "cell_type": "markdown",
      "metadata": {
        "id": "xACVkLlgGeGy",
        "colab_type": "text"
      },
      "source": [
        "Test the function `decide` for the current output and label, and try some other values:"
      ]
    },
    {
      "cell_type": "code",
      "metadata": {
        "id": "o51XbLEEGeGz",
        "colab_type": "code",
        "outputId": "7b0370fc-2485-435c-e515-d22b3fc9ec98",
        "colab": {
          "base_uri": "https://localhost:8080/",
          "height": 34
        }
      },
      "source": [
        "decide(output, label)"
      ],
      "execution_count": 32,
      "outputs": [
        {
          "output_type": "stream",
          "text": [
            "maximise the output\n"
          ],
          "name": "stdout"
        }
      ]
    },
    {
      "cell_type": "markdown",
      "metadata": {
        "id": "KtJa6o1hGeG4",
        "colab_type": "text"
      },
      "source": [
        "If the formulas for maximising and minimising functions are respectively:\n",
        "$$x_{new} = x_{old} + \\frac{dy}{dx}x_{old} \\cdot c$$\n",
        "and\n",
        "$$x_{new} = x_{old} - \\frac{dy}{dx}x_{old} \\cdot c$$"
      ]
    },
    {
      "cell_type": "markdown",
      "metadata": {
        "id": "lYbPiDBQGeG5",
        "colab_type": "text"
      },
      "source": [
        "How can we use a number-holding variable, for example `sign` to modify this function so that it can maximise and minimise according to its value:"
      ]
    },
    {
      "cell_type": "code",
      "metadata": {
        "id": "8M6jAfeSGeG6",
        "colab_type": "code",
        "colab": {}
      },
      "source": [
        ""
      ],
      "execution_count": 0,
      "outputs": []
    },
    {
      "cell_type": "markdown",
      "metadata": {
        "id": "NKIUxh7TGeG-",
        "colab_type": "text"
      },
      "source": [
        "Initialise the variable `sign` to zero, and write code that will set its value to `-1` or `1` according to the current values of the variables `output` and `label`"
      ]
    },
    {
      "cell_type": "code",
      "metadata": {
        "id": "6yEzb2G4GeG_",
        "colab_type": "code",
        "colab": {}
      },
      "source": [
        "sign =0\n",
        "if (output < 1) and (label == 1):\n",
        "  sign =1\n",
        "if ((output  > -1) and (label == -1)):\n",
        "  sign = -1\n",
        "\n"
      ],
      "execution_count": 0,
      "outputs": []
    },
    {
      "cell_type": "markdown",
      "metadata": {
        "id": "GwDUljaMGeHE",
        "colab_type": "text"
      },
      "source": [
        "What is the value of `sign` for the output of our current data points and their label?"
      ]
    },
    {
      "cell_type": "code",
      "metadata": {
        "id": "dCwnvlueGeHF",
        "colab_type": "code",
        "colab": {
          "base_uri": "https://localhost:8080/",
          "height": 34
        },
        "outputId": "0c7798ef-af69-4414-a4e0-5e61147f799d"
      },
      "source": [
        "sign"
      ],
      "execution_count": 34,
      "outputs": [
        {
          "output_type": "execute_result",
          "data": {
            "text/plain": [
              "1"
            ]
          },
          "metadata": {
            "tags": []
          },
          "execution_count": 34
        }
      ]
    },
    {
      "cell_type": "markdown",
      "metadata": {
        "id": "i-miNQVoGeHM",
        "colab_type": "text"
      },
      "source": [
        "### Computing the gradient"
      ]
    },
    {
      "cell_type": "markdown",
      "metadata": {
        "id": "6mhziZWeGeHO",
        "colab_type": "text"
      },
      "source": [
        "<img src=\"https://github.com/nmarincic/machineintelligence/blob/master/img/neural_networks_16.png?raw=1\" alt=\"drawing\" width=\"400\"/>"
      ]
    },
    {
      "cell_type": "markdown",
      "metadata": {
        "id": "oqcmuVWiGeHO",
        "colab_type": "text"
      },
      "source": [
        "We have computed the partial derivatives in terms of parameters $A$, $B$, and $C$:"
      ]
    },
    {
      "cell_type": "markdown",
      "metadata": {
        "id": "qq11BjFoGeHP",
        "colab_type": "text"
      },
      "source": [
        "\\begin{align*}\n",
        "\\frac{\\partial F}{\\partial A} &=\\frac{\\partial F}{\\partial G}*\\frac{\\partial G}{\\partial A}; &\\frac{\\partial F}{\\partial B} &=\\frac{\\partial F}{\\partial G}*\\frac{\\partial G}{\\partial B}; &\\frac{\\partial F}{\\partial C} ;& \\\\\\\\\n",
        "\\frac{\\partial F}{\\partial A} &=1*X &\\frac{\\partial F}{\\partial B} &=1*Y &\\frac{\\partial F}{\\partial C} &=1 \\\\\\\\\n",
        "\\frac{\\partial F}{\\partial A} &=X &\\frac{\\partial F}{\\partial B} &=Y &\\frac{\\partial F}{\\partial C} &=1\n",
        "\\end{align*}"
      ]
    },
    {
      "cell_type": "markdown",
      "metadata": {
        "id": "x1_kT2LBGeHR",
        "colab_type": "text"
      },
      "source": [
        "Initialise the partial derivatives using the variables `dA`, `dB` and `dC`, and print their values:"
      ]
    },
    {
      "cell_type": "code",
      "metadata": {
        "id": "Vj2MeaJzGeHS",
        "colab_type": "code",
        "colab": {}
      },
      "source": [
        "dA, dB, dC = X,Y,1"
      ],
      "execution_count": 0,
      "outputs": []
    },
    {
      "cell_type": "markdown",
      "metadata": {
        "id": "UjN5n-hfGeHW",
        "colab_type": "text"
      },
      "source": [
        "Introduce the variable `step_size` to hold a very small number and minimise/maximise the value of `dA`, `dB` and `dC`:"
      ]
    },
    {
      "cell_type": "code",
      "metadata": {
        "id": "GcoxglfkGeHX",
        "colab_type": "code",
        "colab": {}
      },
      "source": [
        "step_size = 0.001"
      ],
      "execution_count": 0,
      "outputs": []
    },
    {
      "cell_type": "markdown",
      "metadata": {
        "id": "jdJgFXySGeHc",
        "colab_type": "text"
      },
      "source": [
        "Evaluate the  function $f(\\mathbf{X},\\mathbf{Y})$, with the updated parameters $A$, $B$, and $C$:"
      ]
    },
    {
      "cell_type": "code",
      "metadata": {
        "id": "jN7GJaE-GeHd",
        "colab_type": "code",
        "colab": {
          "base_uri": "https://localhost:8080/",
          "height": 34
        },
        "outputId": "ab5b76f2-9413-4590-ced4-4e74671954e0"
      },
      "source": [
        "A = A + sign* step_size * dA\n",
        "B = B + sign* step_size * dB\n",
        "C = C + sign* step_size * dC\n",
        "A,B,C\n",
        "\n"
      ],
      "execution_count": 43,
      "outputs": [
        {
          "output_type": "execute_result",
          "data": {
            "text/plain": [
              "(1.0059999999999998, 3.0002000000000004, -3.998)"
            ]
          },
          "metadata": {
            "tags": []
          },
          "execution_count": 43
        }
      ]
    },
    {
      "cell_type": "code",
      "metadata": {
        "id": "gU0XqQW_Z4UO",
        "colab_type": "code",
        "colab": {
          "base_uri": "https://localhost:8080/",
          "height": 34
        },
        "outputId": "53fa689d-37a3-4f19-dc82-20427c8e9d51"
      },
      "source": [
        "A * X + B * Y + C\n"
      ],
      "execution_count": 45,
      "outputs": [
        {
          "output_type": "execute_result",
          "data": {
            "text/plain": [
              "-0.6799800000000009"
            ]
          },
          "metadata": {
            "tags": []
          },
          "execution_count": 45
        }
      ]
    },
    {
      "cell_type": "markdown",
      "metadata": {
        "id": "AoDDGcwGGeHh",
        "colab_type": "text"
      },
      "source": [
        "This result should be better then the original result `-3.2` !"
      ]
    },
    {
      "cell_type": "markdown",
      "metadata": {
        "id": "MszjUTjuGeHi",
        "colab_type": "text"
      },
      "source": [
        "***"
      ]
    },
    {
      "cell_type": "markdown",
      "metadata": {
        "id": "hEL_UcasGeHj",
        "colab_type": "text"
      },
      "source": [
        "#### Exercise 1:\n",
        "Write a simple algorithm for binary classification by using the previously written code:"
      ]
    },
    {
      "cell_type": "code",
      "metadata": {
        "id": "4aAsrv_iGeHk",
        "colab_type": "code",
        "colab": {}
      },
      "source": [
        ""
      ],
      "execution_count": 0,
      "outputs": []
    },
    {
      "cell_type": "markdown",
      "metadata": {
        "id": "NLcSsCijGeHo",
        "colab_type": "text"
      },
      "source": [
        "***"
      ]
    },
    {
      "cell_type": "markdown",
      "metadata": {
        "id": "rAu_4LQ7GeHp",
        "colab_type": "text"
      },
      "source": [
        "### Simple linear classification algorithm"
      ]
    },
    {
      "cell_type": "markdown",
      "metadata": {
        "id": "_HnA6vkFGeHq",
        "colab_type": "text"
      },
      "source": [
        "Here, the previous steps are put together in an working algorithm. "
      ]
    },
    {
      "cell_type": "markdown",
      "metadata": {
        "id": "emvOtC-9GeHr",
        "colab_type": "text"
      },
      "source": [
        "| vector [x,y] \t| label \t|\n",
        "|--------------\t|-------\t|\n",
        "| [ 0.0, 0.7]  \t| +1    \t|\n",
        "| [-0.3, -0.5] \t| -1    \t|\n",
        "| [3.0, 0.1]   \t| +1    \t|\n",
        "| [-0.1, -1.0] \t| -1    \t|\n",
        "| [-1.0, 1.1]  \t| -1    \t|\n",
        "| [2.1, -3.0]  \t| +1    \t|"
      ]
    },
    {
      "cell_type": "markdown",
      "metadata": {
        "id": "uNInvGGBGeHr",
        "colab_type": "text"
      },
      "source": [
        "We can represent the data as a 2-dimensional numpy array"
      ]
    },
    {
      "cell_type": "code",
      "metadata": {
        "id": "9reYxc_7GeHs",
        "colab_type": "code",
        "colab": {}
      },
      "source": [
        "data = np.array([[ 0.0, 0.7],\n",
        "                 [-0.3,-0.5],\n",
        "                 [ 3.0, 0.1],\n",
        "                 [-0.1,-1.0],\n",
        "                 [-1.0, 1.1],\n",
        "                 [ 2.1,-3.0]])"
      ],
      "execution_count": 0,
      "outputs": []
    },
    {
      "cell_type": "markdown",
      "metadata": {
        "id": "wEk67Rw8GeHx",
        "colab_type": "text"
      },
      "source": [
        "We can represent the labels as a simple numpy array of numbers"
      ]
    },
    {
      "cell_type": "code",
      "metadata": {
        "id": "DTO39RouGeHz",
        "colab_type": "code",
        "colab": {}
      },
      "source": [
        "labels = np.array([ 1,\n",
        "                   -1,\n",
        "                    1,\n",
        "                   -1,\n",
        "                   -1,\n",
        "                   +1])"
      ],
      "execution_count": 0,
      "outputs": []
    },
    {
      "cell_type": "markdown",
      "metadata": {
        "id": "JFbfs4mdGeH3",
        "colab_type": "text"
      },
      "source": [
        "We can plot the data using the following function:"
      ]
    },
    {
      "cell_type": "code",
      "metadata": {
        "code_folding": [
          0
        ],
        "id": "kbM1CRMFGeH4",
        "colab_type": "code",
        "colab": {}
      },
      "source": [
        "def plot_data(data, labels):\n",
        "    fig = plt.figure(figsize=(5,5))\n",
        "    ax = fig.add_subplot(111)\n",
        "    ax.scatter(data[:,0], data[:,1], c=labels, s=50,  cmap=plt.cm.bwr,zorder=50)\n",
        "    nudge = 0.08\n",
        "    for i in range(data.shape[0]):\n",
        "        d = data[i]\n",
        "        ax.annotate(f'{i}',(d[0]+nudge,d[1]+nudge))\n",
        "    ax.set_aspect('equal', 'datalim')\n",
        "    plt.show()"
      ],
      "execution_count": 0,
      "outputs": []
    },
    {
      "cell_type": "code",
      "metadata": {
        "scrolled": true,
        "id": "MIidx9yIGeH7",
        "colab_type": "code",
        "outputId": "491e0fbb-2156-4d11-8045-2056f46f981a",
        "colab": {}
      },
      "source": [
        "plot_data(data,labels)"
      ],
      "execution_count": 0,
      "outputs": [
        {
          "output_type": "display_data",
          "data": {
            "image/png": "[encoded data removed]",
            "text/plain": [
              "<Figure size 360x360 with 1 Axes>"
            ]
          },
          "metadata": {
            "tags": [],
            "image/png": {
              "height": 304,
              "width": 316
            },
            "needs_background": "light"
          }
        }
      ]
    },
    {
      "cell_type": "markdown",
      "metadata": {
        "id": "TmQXsle1GeIB",
        "colab_type": "text"
      },
      "source": [
        "This is a function to evaluate the accuracy of the training"
      ]
    },
    {
      "cell_type": "code",
      "metadata": {
        "code_folding": [
          0,
          15,
          22
        ],
        "id": "uZHEPSysGeIB",
        "colab_type": "code",
        "colab": {}
      },
      "source": [
        "def eval_accuracy(data,labels, A,B,C):\n",
        "    num_correct = 0;\n",
        "    data_len = data.shape[0]\n",
        "    \n",
        "    for i in range(data_len):\n",
        "        X,Y = data[i]\n",
        "        current_label = labels[i]  \n",
        "        output = A*X + B*Y + C\n",
        "        predicted_label = 1 if output >= 1 else -1 if output <= -1 else 0\n",
        "        if (predicted_label == current_label):\n",
        "            num_correct += 1\n",
        "    return np.round(num_correct / data_len,3)\n",
        "\n",
        "def create_meshgrid(data):\n",
        "    h = 0.02\n",
        "    x_min, x_max = data[:, 0].min() - 1, data[:, 0].max() + 1\n",
        "    y_min, y_max = data[:, 1].min() - 1, data[:, 1].max() + 1\n",
        "    xx, yy = np.meshgrid(np.arange(x_min, x_max, h), np.arange(y_min, y_max, h))\n",
        "    return (xx,yy,np.ones(xx.shape))\n",
        "\n",
        "def plot_learning_simple(grid,data,labels,A,B,C,iteration, accuracy):\n",
        "    xx,yy,Z = grid\n",
        "    \n",
        "    for i in range(xx.shape[0]): # row\n",
        "        for j in range(yy.shape[1]): #column\n",
        "            X, Y = xx[i][j],yy[i][j]\n",
        "            output = A*X + B*Y + C\n",
        "            output = 1 if output > 0 else -1\n",
        "            Z[i][j] = output\n",
        "\n",
        "    fig = plt.figure(figsize=(5,5))\n",
        "    ax = fig.add_subplot(111)\n",
        "    plt.title(f'accuracy at the iteration {iteration}: {accuracy}')\n",
        "    ax.contourf(xx, yy, Z, cmap=plt.cm.binary, alpha=0.1, zorder=15)\n",
        "    ax.scatter(data[:, 0], data[:, 1], c=labels, s=50,  cmap=plt.cm.bwr,zorder=50)\n",
        "    ax.set_aspect('equal')\n",
        "    nudge = 0.08\n",
        "    for i in range(data.shape[0]):\n",
        "        d = data[i]\n",
        "        ax.annotate(f'{i}',(d[0]+nudge,d[1]+nudge))\n",
        "    plt.xlim(xx.min(), xx.max())\n",
        "    plt.ylim(yy.min(), yy.max())\n",
        "    plt.show()"
      ],
      "execution_count": 0,
      "outputs": []
    },
    {
      "cell_type": "markdown",
      "metadata": {
        "id": "Ivx4dkjmGeIF",
        "colab_type": "text"
      },
      "source": [
        "Here is the main algorithm."
      ]
    },
    {
      "cell_type": "code",
      "metadata": {
        "id": "lakoJW5QGeIF",
        "colab_type": "code",
        "colab": {}
      },
      "source": [
        "def train_neural_network(data, labels, step_size, no_loops, iter_info):\n",
        "    #A, B, and C are parameters of the function F. Here, they are set to 1, -2, -1\n",
        "    A, B, C = 1, -2, -1\n",
        "    # this function is used for plotting, it can be ignored\n",
        "    grid = create_meshgrid(data)\n",
        "    \n",
        "    # the main training loop\n",
        "    for i in range(no_loops):\n",
        "        # we randomly select the data point, and store its info into: x,y,label\n",
        "        index = np.random.randint(data.shape[0])\n",
        "        X,Y = data[index]\n",
        "        label = labels[index]\n",
        "        # we calculate the output of the function\n",
        "        output = A*X + B*Y + C\n",
        "        # We need to define how to affect parameters.\n",
        "        # If the label is 1 but the output is smaller than 1, we want to push the score up.\n",
        "        # If the label is -1 but the output is larger than -1, we want to push the score down.\n",
        "        sign = 0.0\n",
        "        if (label == 1 and output <= 1):\n",
        "            sign = 1.0\n",
        "        if (label ==-1 and output > -1):\n",
        "            sign = -1.0\n",
        "         # partial derivative of dF/dA is X, dF/dB is Y, and of dF/dC is 1. \n",
        "        dA, dB, dC = X, Y, 1\n",
        "        # here we update the parameter values using partial derivatives\n",
        "        A = A + dA * sign * step_size\n",
        "        B = B + dB * sign * step_size\n",
        "        C = C + dC * sign * step_size;\n",
        "        \n",
        "        # after a number of iterations, show training accuracy and plot it\n",
        "        if (i%iter_info==0):\n",
        "            accuracy = eval_accuracy(data, labels, A,B,C)\n",
        "            plot_learning_simple(grid,data,labels,A,B,C,i,accuracy)\n",
        "    # the algorithm returns the learned parameters A, B, and C\n",
        "    return (A,B,C)"
      ],
      "execution_count": 0,
      "outputs": []
    },
    {
      "cell_type": "code",
      "metadata": {
        "scrolled": false,
        "id": "KnUCYH66GeIL",
        "colab_type": "code",
        "outputId": "76f1bf4c-39d7-4bbb-bb63-d5432efde90c",
        "colab": {
          "base_uri": "https://localhost:8080/",
          "height": 1000
        }
      },
      "source": [
        "train_1 = train_neural_network(data, labels, 0.01, 2501, 500)"
      ],
      "execution_count": 51,
      "outputs": [
        {
          "output_type": "display_data",
          "data": {
            "image/png": "[encoded data removed]",
            "text/plain": [
              "<Figure size 360x360 with 1 Axes>"
            ]
          },
          "metadata": {
            "tags": [],
            "image/png": {
              "width": 303,
              "height": 318
            },
            "needs_background": "light"
          }
        },
        {
          "output_type": "display_data",
          "data": {
            "image/png": "[encoded data removed]",
            "text/plain": [
              "<Figure size 360x360 with 1 Axes>"
            ]
          },
          "metadata": {
            "tags": [],
            "image/png": {
              "width": 303,
              "height": 318
            },
            "needs_background": "light"
          }
        },
        {
          "output_type": "display_data",
          "data": {
            "image/png": "[encoded data removed]",
            "text/plain": [
              "<Figure size 360x360 with 1 Axes>"
            ]
          },
          "metadata": {
            "tags": [],
            "image/png": {
              "width": 303,
              "height": 318
            },
            "needs_background": "light"
          }
        },
        {
          "output_type": "display_data",
          "data": {
            "image/png": "[encoded data removed]",
            "text/plain": [
              "<Figure size 360x360 with 1 Axes>"
            ]
          },
          "metadata": {
            "tags": [],
            "image/png": {
              "width": 303,
              "height": 318
            },
            "needs_background": "light"
          }
        },
        {
          "output_type": "display_data",
          "data": {
            "image/png": "[encoded data removed]",
            "text/plain": [
              "<Figure size 360x360 with 1 Axes>"
            ]
          },
          "metadata": {
            "tags": [],
            "image/png": {
              "width": 303,
              "height": 318
            },
            "needs_background": "light"
          }
        },
        {
          "output_type": "display_data",
          "data": {
            "image/png": "[encoded data removed]",
            "text/plain": [
              "<Figure size 360x360 with 1 Axes>"
            ]
          },
          "metadata": {
            "tags": [],
            "image/png": {
              "width": 303,
              "height": 318
            },
            "needs_background": "light"
          }
        }
      ]
    },
    {
      "cell_type": "markdown",
      "metadata": {
        "id": "I5_xJYOTGeIR",
        "colab_type": "text"
      },
      "source": [
        "We can inspect the result by comparing the real label of a data point and the predicted label:"
      ]
    },
    {
      "cell_type": "code",
      "metadata": {
        "code_folding": [
          0
        ],
        "id": "ZWfQ5mtVGeIS",
        "colab_type": "code",
        "colab": {}
      },
      "source": [
        "def show_prediction(train, data, labels):\n",
        "    A, B, C = train\n",
        "    for i in range(data.shape[0]):\n",
        "        X,Y = data[i]\n",
        "        label = labels[i]\n",
        "        output = A*X + B*Y + C\n",
        "        predicted_label = 1 if output >= 1 else -1 if output <= -1 else 0\n",
        "        print (f'data point {i}: real label : {label}, pred. label: {predicted_label}, {(label==predicted_label)}')"
      ],
      "execution_count": 0,
      "outputs": []
    },
    {
      "cell_type": "code",
      "metadata": {
        "id": "PV3OGPT0GeIV",
        "colab_type": "code",
        "outputId": "6552cc10-2adb-44a1-e286-d10d32fb22c3",
        "colab": {
          "base_uri": "https://localhost:8080/",
          "height": 119
        }
      },
      "source": [
        "show_prediction(train_1,data,labels)"
      ],
      "execution_count": 53,
      "outputs": [
        {
          "output_type": "stream",
          "text": [
            "data point 0: real label : 1, pred. label: 1, True\n",
            "data point 1: real label : -1, pred. label: -1, True\n",
            "data point 2: real label : 1, pred. label: 1, True\n",
            "data point 3: real label : -1, pred. label: -1, True\n",
            "data point 4: real label : -1, pred. label: -1, True\n",
            "data point 5: real label : 1, pred. label: 1, True\n"
          ],
          "name": "stdout"
        }
      ]
    }
  ]
}